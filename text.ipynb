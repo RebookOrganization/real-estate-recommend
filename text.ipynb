{
 "cells": [
  {
   "cell_type": "code",
   "execution_count": 28,
   "metadata": {
    "pycharm": {
     "is_executing": false
    }
   },
   "outputs": [],
   "source": [
    "import pandas as pd"
   ]
  },
  {
   "cell_type": "code",
   "execution_count": 29,
   "metadata": {
    "pycharm": {
     "is_executing": false
    }
   },
   "outputs": [],
   "source": [
    "data=pd.read_csv(\"real-estate-location.csv\",header=None)"
   ]
  },
  {
   "cell_type": "code",
   "execution_count": 30,
   "metadata": {
    "pycharm": {
     "is_executing": false
    }
   },
   "outputs": [],
   "source": [
    "data.columns=['id','area','price','district','province']"
   ]
  },
  {
   "cell_type": "code",
   "execution_count": 31,
   "metadata": {
    "pycharm": {
     "is_executing": false
    }
   },
   "outputs": [],
   "source": [
    "data=data.dropna()"
   ]
  },
  {
   "cell_type": "code",
   "execution_count": 32,
   "metadata": {
    "pycharm": {
     "is_executing": false
    }
   },
   "outputs": [],
   "source": [
    "data=data.drop_duplicates(subset=[\"area\",\"price\"])"
   ]
  },
  {
   "cell_type": "code",
   "execution_count": 33,
   "metadata": {
    "pycharm": {
     "is_executing": false
    },
    "scrolled": false
   },
   "outputs": [
    {
     "name": "stdout",
     "output_type": "stream",
     "text": [
      "<class 'pandas.core.frame.DataFrame'>\n",
      "Int64Index: 859 entries, 0 to 9060\n",
      "Data columns (total 3 columns):\n",
      "id       859 non-null int64\n",
      "area     859 non-null object\n",
      "price    859 non-null object\n",
      "dtypes: int64(1), object(2)\n",
      "memory usage: 26.8+ KB\n"
     ]
    }
   ],
   "source": [
    "data.info()"
   ]
  },
  {
   "cell_type": "code",
   "execution_count": 34,
   "metadata": {
    "pycharm": {
     "is_executing": false
    }
   },
   "outputs": [
    {
     "data": {
      "text/html": [
       "<div>\n",
       "<style scoped>\n",
       "    .dataframe tbody tr th:only-of-type {\n",
       "        vertical-align: middle;\n",
       "    }\n",
       "\n",
       "    .dataframe tbody tr th {\n",
       "        vertical-align: top;\n",
       "    }\n",
       "\n",
       "    .dataframe thead th {\n",
       "        text-align: right;\n",
       "    }\n",
       "</style>\n",
       "<table border=\"1\" class=\"dataframe\">\n",
       "  <thead>\n",
       "    <tr style=\"text-align: right;\">\n",
       "      <th></th>\n",
       "      <th>id</th>\n",
       "      <th>area</th>\n",
       "      <th>price</th>\n",
       "    </tr>\n",
       "  </thead>\n",
       "  <tbody>\n",
       "    <tr>\n",
       "      <th>0</th>\n",
       "      <td>2</td>\n",
       "      <td>68.68m²</td>\n",
       "      <td>2.2 tỷ</td>\n",
       "    </tr>\n",
       "    <tr>\n",
       "      <th>1</th>\n",
       "      <td>3</td>\n",
       "      <td>90m²</td>\n",
       "      <td>8.6 tỷ</td>\n",
       "    </tr>\n",
       "    <tr>\n",
       "      <th>2</th>\n",
       "      <td>4</td>\n",
       "      <td>60m²</td>\n",
       "      <td>2.39 tỷ</td>\n",
       "    </tr>\n",
       "    <tr>\n",
       "      <th>3</th>\n",
       "      <td>5</td>\n",
       "      <td>85.4m²</td>\n",
       "      <td>60 triệu/m²</td>\n",
       "    </tr>\n",
       "    <tr>\n",
       "      <th>4</th>\n",
       "      <td>6</td>\n",
       "      <td>45m²</td>\n",
       "      <td>5.1 tỷ</td>\n",
       "    </tr>\n",
       "    <tr>\n",
       "      <th>...</th>\n",
       "      <td>...</td>\n",
       "      <td>...</td>\n",
       "      <td>...</td>\n",
       "    </tr>\n",
       "    <tr>\n",
       "      <th>8799</th>\n",
       "      <td>11179</td>\n",
       "      <td>130m²</td>\n",
       "      <td>1 tỷ 50 triệu</td>\n",
       "    </tr>\n",
       "    <tr>\n",
       "      <th>8903</th>\n",
       "      <td>11318</td>\n",
       "      <td>75m²</td>\n",
       "      <td>800 triệu</td>\n",
       "    </tr>\n",
       "    <tr>\n",
       "      <th>8904</th>\n",
       "      <td>11319</td>\n",
       "      <td>140m²</td>\n",
       "      <td>1 tỷ 200 triệu</td>\n",
       "    </tr>\n",
       "    <tr>\n",
       "      <th>8905</th>\n",
       "      <td>11320</td>\n",
       "      <td>70m²</td>\n",
       "      <td>610 triệu</td>\n",
       "    </tr>\n",
       "    <tr>\n",
       "      <th>9060</th>\n",
       "      <td>11480</td>\n",
       "      <td>100m²</td>\n",
       "      <td>789 triệu</td>\n",
       "    </tr>\n",
       "  </tbody>\n",
       "</table>\n",
       "<p>859 rows × 3 columns</p>\n",
       "</div>"
      ],
      "text/plain": [
       "         id     area           price\n",
       "0         2  68.68m²          2.2 tỷ\n",
       "1         3     90m²          8.6 tỷ\n",
       "2         4     60m²         2.39 tỷ\n",
       "3         5   85.4m²     60 triệu/m²\n",
       "4         6     45m²          5.1 tỷ\n",
       "...     ...      ...             ...\n",
       "8799  11179    130m²   1 tỷ 50 triệu\n",
       "8903  11318     75m²       800 triệu\n",
       "8904  11319    140m²  1 tỷ 200 triệu\n",
       "8905  11320     70m²       610 triệu\n",
       "9060  11480    100m²       789 triệu\n",
       "\n",
       "[859 rows x 3 columns]"
      ]
     },
     "execution_count": 34,
     "metadata": {},
     "output_type": "execute_result"
    }
   ],
   "source": [
    "data"
   ]
  },
  {
   "cell_type": "code",
   "execution_count": 8,
   "metadata": {
    "pycharm": {
     "is_executing": false
    }
   },
   "outputs": [],
   "source": [
    "import seaborn as sns"
   ]
  },
  {
   "cell_type": "code",
   "execution_count": 9,
   "metadata": {
    "pycharm": {
     "is_executing": false
    },
    "scrolled": true
   },
   "outputs": [
    {
     "data": {
      "text/plain": [
       "<matplotlib.axes._subplots.AxesSubplot at 0x12187c950>"
      ]
     },
     "execution_count": 9,
     "metadata": {},
     "output_type": "execute_result"
    },
    {
     "data": {
      "image/png": "[encoded data removed]",
      "text/plain": [
       "<Figure size 432x288 with 1 Axes>"
      ]
     },
     "metadata": {
      "needs_background": "light"
     },
     "output_type": "display_data"
    }
   ],
   "source": [
    "sns.heatmap(data.isnull(), cbar=False)\n"
   ]
  },
  {
   "cell_type": "code",
   "execution_count": 10,
   "metadata": {
    "pycharm": {
     "is_executing": false
    }
   },
   "outputs": [],
   "source": [
    "def convertPrice(area,price):\n",
    "    area=re.sub(\"[^0-9^.]\", \"\", area)\n",
    "    area=float(area)\n",
    "    if(area>1050):\n",
    "        return 0\n",
    "    output=0\n",
    "    if (\"triệu\" in price and \"tỷ\" in price) :\n",
    "        indexOfBili = price.index(\"tỷ\");\n",
    "        indexOfMili = price.index(\"triệu\");\n",
    "        output = float(price[0:indexOfBili].strip())*1000000 + float(price[indexOfBili+len('tỷ'):indexOfMili].strip())\n",
    "    else:\n",
    "        if(\"triệu/m\" in price):\n",
    "            if(\"triệu/m²\" in price):\n",
    "                output = float(price.replace(\" triệu/m²\", \"\").strip())*1000 * area;\n",
    "            else:\n",
    "                output = float(price.replace(\" triệu/m2\", \"\").strip())*1000 * area;\n",
    "        else:\n",
    "            if(\"ngàn/m\" in price):\n",
    "                indexOfMili = price.index(\"triệu\");\n",
    "                indexOfThousand=0\n",
    "                if(\"ngàn/m²\" in price):\n",
    "                    indexOfThousand = price.index(\"ngàn/m²\");\n",
    "                else:\n",
    "                    indexOfThousand = price.index(\"ngàn/m2\");\n",
    "                output = float(price[0:indexOfMili].strip())*1000 + float(price[indexOfMili+len('triệu'):indexOfThousand].strip())*1000*area\n",
    "            else:\n",
    "                if(\"triệu\" in price and \"tỷ\" not in price):\n",
    "                    indexOfMili = price.index(\"triệu\");\n",
    "                    thousand=((re.sub(\"[^0-9^.]\",\"\",price[indexOfMili+len('triệu'):]).strip()))\n",
    "                    if(len(thousand)>0):\n",
    "                        output = float(price[0:indexOfMili].strip())*1000 + float(thousand)\n",
    "                    else:\n",
    "                        output = float(price[0:indexOfMili].strip())*1000\n",
    "\n",
    "                else:\n",
    "                    if (\"triệu\" not in price and \"tỷ\" in price):\n",
    "                        output = float(price.replace(\" tỷ\", \"\").strip())*1000000;\n",
    "                    else:\n",
    "                        return 0\n",
    "    if output/1000>80000:\n",
    "        return 0;\n",
    "    return output"
   ]
  },
  {
   "cell_type": "code",
   "execution_count": 11,
   "metadata": {
    "pycharm": {
     "is_executing": false
    },
    "scrolled": true
   },
   "outputs": [],
   "source": [
    "import re\n",
    "id_list=[]\n",
    "price_list=[]\n",
    "area_list=[]\n",
    "for row in data.values:\n",
    "    price=convertPrice(str(row[1]),str(row[2]))\n",
    "    if price!=0:\n",
    "        id_list.append(row[0])\n",
    "        price_list.append(price/1000)\n",
    "        area_list.append(float(re.sub(\"[^0-9^.]\", \"\", row[1])))"
   ]
  },
  {
   "cell_type": "code",
   "execution_count": 12,
   "metadata": {
    "pycharm": {
     "is_executing": false
    }
   },
   "outputs": [],
   "source": [
    "pd.DataFrame([ j for (i,j) in zip(area_list,id_list) if i >= 700 ]).to_clipboard()\n"
   ]
  },
  {
   "cell_type": "code",
   "execution_count": 13,
   "metadata": {
    "pycharm": {
     "is_executing": false
    }
   },
   "outputs": [
    {
     "data": {
      "text/plain": [
       "25"
      ]
     },
     "execution_count": 13,
     "metadata": {},
     "output_type": "execute_result"
    }
   ],
   "source": [
    "len([ j for (i,j) in zip(area_list,id_list) if i >= 700 ])"
   ]
  },
  {
   "cell_type": "code",
   "execution_count": null,
   "metadata": {
    "pycharm": {
     "is_executing": true
    }
   },
   "outputs": [],
   "source": [
    "from sklearn import preprocessing\n",
    "import numpy as np"
   ]
  },
  {
   "cell_type": "code",
   "execution_count": null,
   "metadata": {
    "pycharm": {
     "is_executing": true
    }
   },
   "outputs": [],
   "source": [
    "\n",
    "def NormalizeData(data):\n",
    "    return (data - np.min(data)) / (np.max(data) - np.min(data))"
   ]
  },
  {
   "cell_type": "code",
   "execution_count": null,
   "metadata": {
    "pycharm": {
     "is_executing": true
    }
   },
   "outputs": [],
   "source": [
    "x_array=np.vstack((([NormalizeData(np.array(area_list))]), (([NormalizeData(np.array(price_list))])))).T"
   ]
  },
  {
   "cell_type": "code",
   "execution_count": null,
   "metadata": {
    "pycharm": {
     "is_executing": true
    }
   },
   "outputs": [],
   "source": [
    "x_array=np.vstack((([np.array(area_list)]), (([np.array(price_list)])))).T"
   ]
  },
  {
   "cell_type": "code",
   "execution_count": null,
   "metadata": {
    "pycharm": {
     "is_executing": true
    }
   },
   "outputs": [],
   "source": [
    "import matplotlib.pyplot as plt\n",
    "df=pd.DataFrame({'area':x_array[:,0],\"price\":x_array[:,1]})\n",
    "ax = sns.scatterplot(x=\"area\", y=\"price\",data=df)\n",
    "ax.set(xlabel='area/m2', ylabel='price/million')"
   ]
  },
  {
   "cell_type": "code",
   "execution_count": null,
   "metadata": {
    "pycharm": {
     "is_executing": true
    }
   },
   "outputs": [],
   "source": [
    "from sklearn.model_selection import train_test_split\n",
    "\n",
    "X_train, X_test, y_train, y_test = np.asarray(train_test_split(df['area'], df['price'], test_size=0.1))"
   ]
  },
  {
   "cell_type": "code",
   "execution_count": null,
   "metadata": {
    "pycharm": {
     "is_executing": true
    },
    "scrolled": true
   },
   "outputs": [],
   "source": [
    "from sklearn.linear_model import LinearRegression\n",
    "\n",
    "reg = LinearRegression()\n",
    "reg.fit(X_train.values.reshape(-1,1), y_train.values.reshape(-1,1))"
   ]
  },
  {
   "cell_type": "code",
   "execution_count": null,
   "metadata": {
    "pycharm": {
     "is_executing": true
    }
   },
   "outputs": [],
   "source": [
    "print('Score: ', reg.score(X_test.values.reshape(-1,1), y_test.values.reshape(-1,1)))\n"
   ]
  },
  {
   "cell_type": "code",
   "execution_count": null,
   "metadata": {
    "pycharm": {
     "is_executing": true
    },
    "scrolled": false
   },
   "outputs": [],
   "source": [
    "x_line = np.linspace(0,1,100).reshape(-1,1)\n",
    "sns.regplot(x=df['area'], y=df['price'], data=df, fit_reg=False)\n",
    "plt.plot(x_line, reg.predict(x_line))\n",
    "plt.show()"
   ]
  },
  {
   "cell_type": "code",
   "execution_count": null,
   "metadata": {
    "pycharm": {
     "is_executing": true
    }
   },
   "outputs": [],
   "source": [
    "from sklearn.preprocessing import PolynomialFeatures\n"
   ]
  },
  {
   "cell_type": "code",
   "execution_count": null,
   "metadata": {
    "pycharm": {
     "is_executing": true
    }
   },
   "outputs": [],
   "source": [
    "poly = PolynomialFeatures(degree=3)\n",
    "X_ = poly.fit_transform(X_train.values.reshape(-1,1))"
   ]
  },
  {
   "cell_type": "code",
   "execution_count": null,
   "metadata": {
    "pycharm": {
     "is_executing": true
    }
   },
   "outputs": [],
   "source": [
    "lin_reg_2 = LinearRegression()\n",
    "lin_reg_2.fit(X_, y_train.values.reshape(-1, 1))\n",
    "y_pred = lin_reg_2.predict(X_)"
   ]
  },
  {
   "cell_type": "code",
   "execution_count": null,
   "metadata": {
    "pycharm": {
     "is_executing": true
    }
   },
   "outputs": [],
   "source": [
    "from sklearn.metrics import r2_score\n",
    "r2_score(y_train, y_pred)"
   ]
  },
  {
   "cell_type": "code",
   "execution_count": null,
   "metadata": {
    "pycharm": {
     "is_executing": true
    }
   },
   "outputs": [],
   "source": [
    "sns.set(rc={'figure.figsize':(9,6)})\n",
    "ax=sns.scatterplot(x=\"x\",y=\"y\",data=pd.DataFrame.from_dict({\"x\":X_train.values,\"y\":y_train.values}))\n",
    "ax=sns.lineplot(x=\"x\",y=\"y\",data=pd.DataFrame.from_dict({\"x\":X_train.values,\"y\":y_pred.flatten()}))"
   ]
  },
  {
   "cell_type": "code",
   "execution_count": null,
   "metadata": {
    "pycharm": {
     "is_executing": true
    }
   },
   "outputs": [],
   "source": []
  }
 ],
 "metadata": {
  "kernelspec": {
   "display_name": "Python 3",
   "language": "python",
   "name": "python3"
  },
  "language_info": {
   "codemirror_mode": {
    "name": "ipython",
    "version": 3
   },
   "file_extension": ".py",
   "mimetype": "text/x-python",
   "name": "python",
   "nbconvert_exporter": "python",
   "pygments_lexer": "ipython3",
   "version": "3.7.4"
  },
  "pycharm": {
   "stem_cell": {
    "cell_type": "raw",
    "source": [],
    "metadata": {
     "collapsed": false
    }
   }
  }
 },
 "nbformat": 4,
 "nbformat_minor": 2
}